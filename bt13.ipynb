{
  "nbformat": 4,
  "nbformat_minor": 0,
  "metadata": {
    "colab": {
      "name": "bt13.ipynb",
      "provenance": []
    },
    "kernelspec": {
      "name": "python3",
      "display_name": "Python 3"
    },
    "language_info": {
      "name": "python"
    }
  },
  "cells": [
    {
      "cell_type": "code",
      "metadata": {
        "colab": {
          "base_uri": "https://localhost:8080/",
          "height": 283
        },
        "id": "wzebSpJ6xw0q",
        "outputId": "eb502179-4e28-4dc1-a21a-f8ec62c454a0"
      },
      "source": [
        "import networkx as nx\n",
        "import matplotlib.pyplot as plt\n",
        "\n",
        "G = nx.DiGraph()\n",
        "G.add_node(\"A\")\n",
        "G.add_node(\"B\")\n",
        "G.add_node(\"C\")\n",
        "G.add_node(\"D\")\n",
        "G.add_node(\"E\")\n",
        "G.add_node(\"F\")\n",
        "G.add_node(\"G\")\n",
        "G.add_edge(\"A\",\"B\")\n",
        "G.add_edge(\"B\",\"C\")\n",
        "G.add_edge(\"C\",\"E\")\n",
        "G.add_edge(\"C\",\"F\")\n",
        "G.add_edge(\"D\",\"E\")\n",
        "G.add_edge(\"F\",\"G\")\n",
        "\n",
        "print(G.nodes())\n",
        "print(G.edges())\n",
        "\n",
        "pos = nx.spring_layout(G)\n",
        "\n",
        "nx.draw_networkx_nodes(G, pos)\n",
        "nx.draw_networkx_labels(G, pos)\n",
        "nx.draw_networkx_edges(G, pos, edge_color='r', arrows = True)\n",
        "\n",
        "plt.show()"
      ],
      "execution_count": 20,
      "outputs": [
        {
          "output_type": "stream",
          "text": [
            "['A', 'B', 'C', 'D', 'E', 'F', 'G']\n",
            "[('A', 'B'), ('B', 'C'), ('C', 'E'), ('C', 'F'), ('D', 'E'), ('F', 'G')]\n"
          ],
          "name": "stdout"
        },
        {
          "output_type": "display_data",
          "data": {
            "image/png": "[encoded data removed]",
            "text/plain": [
              "<Figure size 432x288 with 1 Axes>"
            ]
          },
          "metadata": {
            "tags": []
          }
        }
      ]
    }
  ]
}