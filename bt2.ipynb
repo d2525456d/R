{
  "nbformat": 4,
  "nbformat_minor": 0,
  "metadata": {
    "colab": {
      "name": "bt2.ipynb",
      "provenance": []
    },
    "kernelspec": {
      "name": "python3",
      "display_name": "Python 3"
    },
    "language_info": {
      "name": "python"
    }
  },
  "cells": [
    {
      "cell_type": "code",
      "metadata": {
        "colab": {
          "base_uri": "https://localhost:8080/"
        },
        "id": "wzebSpJ6xw0q",
        "outputId": "35e9fd31-2363-418a-db96-2e5b2b1487c4"
      },
      "source": [
        "a = int(input('nhap a = '))\n",
        "b = int(input('nhap b = '))\n",
        "\n",
        "def uscln(a, b):\n",
        "    if (b == 0):\n",
        "        return a;\n",
        "    return uscln(b, a % b);\n",
        "print('UCLN của',a,'và',b,'là:',uscln(a,b))"
      ],
      "execution_count": 2,
      "outputs": [
        {
          "output_type": "stream",
          "text": [
            "nhap a = 3\n",
            "nhap b = 5\n",
            "UCLN của 3 và 5 là: 1\n"
          ],
          "name": "stdout"
        }
      ]
    }
  ]
}