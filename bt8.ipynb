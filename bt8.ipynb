{
  "nbformat": 4,
  "nbformat_minor": 0,
  "metadata": {
    "colab": {
      "name": "bt8.ipynb",
      "provenance": []
    },
    "kernelspec": {
      "name": "python3",
      "display_name": "Python 3"
    },
    "language_info": {
      "name": "python"
    }
  },
  "cells": [
    {
      "cell_type": "code",
      "metadata": {
        "colab": {
          "base_uri": "https://localhost:8080/"
        },
        "id": "wzebSpJ6xw0q",
        "outputId": "b7f9433a-e51c-4162-97d0-338672fa34d1"
      },
      "source": [
        "class Stack:\n",
        "\n",
        "\tdef __init__(self):\n",
        "\t\tself.items = []\n",
        "\n",
        "\tdef isEmpty(self):\n",
        "\t\treturn self.items == []\n",
        "\n",
        "\tdef push(self, item):\n",
        "\t\tself.items.append(item)\n",
        "\n",
        "\tdef pop(self):\n",
        "\t\treturn self.items.pop()\n",
        "\n",
        "\tdef peek(self):\n",
        "\t\treturn self.items[len(self.items) - 1]\n",
        "\n",
        "\tdef size(self):\n",
        "\t\treturn len(self.items)\n",
        "\n",
        "if __name__ == \"__main__\":\n",
        "\ts = Stack()\n",
        "\tprint (\"Is empty: \" + str(s.isEmpty()))\n",
        "\ts.push(4)\n",
        "\ts.push('dog')\n",
        "\ts.push(True)\n",
        "\ts.push(8.4)\n",
        "\tprint (\"Peek of Stack: \" + str(s.peek()))\n",
        "\tprint (\"Items:\",)\n",
        "\tprint (s.items)\n",
        "\tprint (\"Size: \" + str(s.size()))\n",
        "\tprint (\"Pop: \" + str(s.pop()))\n",
        "\n",
        "\tprint (\"Items:\",)\n",
        "\tprint (s.items)\n",
        "\tprint (\"Size: \" + str(s.size()))"
      ],
      "execution_count": 17,
      "outputs": [
        {
          "output_type": "stream",
          "text": [
            "Is empty: True\n",
            "Peek of Stack: 8.4\n",
            "Items:\n",
            "[4, 'dog', True, 8.4]\n",
            "Size: 4\n",
            "Pop: 8.4\n",
            "Items:\n",
            "[4, 'dog', True]\n",
            "Size: 3\n"
          ],
          "name": "stdout"
        }
      ]
    }
  ]
}